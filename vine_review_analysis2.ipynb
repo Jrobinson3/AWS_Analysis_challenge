{
  "cells": [
    {
      "cell_type": "code",
      "execution_count": 1,
      "metadata": {
        "colab": {
          "base_uri": "https://localhost:8080/",
          "height": 0
        },
        "id": "V58rxea0HqSa",
        "outputId": "6cd82bd8-2fa9-413a-f183-aa18885c0eb1"
      },
      "outputs": [
        {
          "output_type": "stream",
          "name": "stdout",
          "text": [
            "Ign:1 https://developer.download.nvidia.com/compute/cuda/repos/ubuntu1804/x86_64  InRelease\n",
            "Get:2 https://cloud.r-project.org/bin/linux/ubuntu bionic-cran40/ InRelease [3,626 B]\n",
            "Ign:3 https://developer.download.nvidia.com/compute/machine-learning/repos/ubuntu1804/x86_64  InRelease\n",
            "Hit:4 https://developer.download.nvidia.com/compute/cuda/repos/ubuntu1804/x86_64  Release\n",
            "Get:5 http://ppa.launchpad.net/c2d4u.team/c2d4u4.0+/ubuntu bionic InRelease [15.9 kB]\n",
            "Hit:6 https://developer.download.nvidia.com/compute/machine-learning/repos/ubuntu1804/x86_64  Release\n",
            "Hit:7 http://archive.ubuntu.com/ubuntu bionic InRelease\n",
            "Get:8 http://security.ubuntu.com/ubuntu bionic-security InRelease [88.7 kB]\n",
            "Get:9 http://archive.ubuntu.com/ubuntu bionic-updates InRelease [88.7 kB]\n",
            "Hit:10 http://ppa.launchpad.net/cran/libgit2/ubuntu bionic InRelease\n",
            "Get:11 http://ppa.launchpad.net/deadsnakes/ppa/ubuntu bionic InRelease [15.9 kB]\n",
            "Hit:12 http://archive.ubuntu.com/ubuntu bionic-backports InRelease\n",
            "Get:14 http://ppa.launchpad.net/graphics-drivers/ppa/ubuntu bionic InRelease [21.3 kB]\n",
            "Get:16 http://ppa.launchpad.net/c2d4u.team/c2d4u4.0+/ubuntu bionic/main Sources [1,822 kB]\n",
            "Get:17 http://security.ubuntu.com/ubuntu bionic-security/main amd64 Packages [2,489 kB]\n",
            "Get:18 http://archive.ubuntu.com/ubuntu bionic-updates/universe amd64 Packages [2,238 kB]\n",
            "Get:19 http://ppa.launchpad.net/c2d4u.team/c2d4u4.0+/ubuntu bionic/main amd64 Packages [934 kB]\n",
            "Get:20 http://security.ubuntu.com/ubuntu bionic-security/multiverse amd64 Packages [26.8 kB]\n",
            "Get:21 http://security.ubuntu.com/ubuntu bionic-security/restricted amd64 Packages [716 kB]\n",
            "Get:22 http://security.ubuntu.com/ubuntu bionic-security/universe amd64 Packages [1,459 kB]\n",
            "Get:23 http://archive.ubuntu.com/ubuntu bionic-updates/main amd64 Packages [2,929 kB]\n",
            "Get:24 http://archive.ubuntu.com/ubuntu bionic-updates/multiverse amd64 Packages [34.5 kB]\n",
            "Get:25 http://archive.ubuntu.com/ubuntu bionic-updates/restricted amd64 Packages [749 kB]\n",
            "Get:26 http://ppa.launchpad.net/deadsnakes/ppa/ubuntu bionic/main amd64 Packages [45.3 kB]\n",
            "Get:27 http://ppa.launchpad.net/graphics-drivers/ppa/ubuntu bionic/main amd64 Packages [44.7 kB]\n",
            "Fetched 13.7 MB in 5s (2,648 kB/s)\n",
            "Reading package lists... Done\n"
          ]
        }
      ],
      "source": [
        "import os\n",
        "# Find the latest version of spark 3.0 from http://www.apache.org/dist/spark/ and enter as the spark version\n",
        "# For example:\n",
        "# spark_version = 'spark-3.0.3'\n",
        "spark_version = 'spark-3.0.3'\n",
        "os.environ['SPARK_VERSION']=spark_version\n",
        "\n",
        "# Install Spark and Java\n",
        "!apt-get update\n",
        "!apt-get install openjdk-11-jdk-headless -qq > /dev/null\n",
        "!wget -q http://www.apache.org/dist/spark/$SPARK_VERSION/$SPARK_VERSION-bin-hadoop2.7.tgz\n",
        "!tar xf $SPARK_VERSION-bin-hadoop2.7.tgz\n",
        "!pip install -q findspark\n",
        "\n",
        "# Set Environment Variables\n",
        "import os\n",
        "os.environ[\"JAVA_HOME\"] = \"/usr/lib/jvm/java-11-openjdk-amd64\"\n",
        "os.environ[\"SPARK_HOME\"] = f\"/content/{spark_version}-bin-hadoop2.7\"\n",
        "\n",
        "# Start a SparkSession\n",
        "import findspark\n",
        "findspark.init()"
      ]
    },
    {
      "cell_type": "code",
      "execution_count": 2,
      "metadata": {
        "colab": {
          "base_uri": "https://localhost:8080/",
          "height": 0
        },
        "id": "_xKwTpATHqSe",
        "outputId": "da2f140e-d666-48e6-cf25-400fe15baaf1"
      },
      "outputs": [
        {
          "output_type": "stream",
          "name": "stdout",
          "text": [
            "--2022-01-10 02:34:35--  https://jdbc.postgresql.org/download/postgresql-42.2.16.jar\n",
            "Resolving jdbc.postgresql.org (jdbc.postgresql.org)... 72.32.157.228, 2001:4800:3e1:1::228\n",
            "Connecting to jdbc.postgresql.org (jdbc.postgresql.org)|72.32.157.228|:443... connected.\n",
            "HTTP request sent, awaiting response... 200 OK\n",
            "Length: 1002883 (979K) [application/java-archive]\n",
            "Saving to: ‘postgresql-42.2.16.jar’\n",
            "\n",
            "postgresql-42.2.16. 100%[===================>] 979.38K  --.-KB/s    in 0.08s   \n",
            "\n",
            "2022-01-10 02:34:35 (11.3 MB/s) - ‘postgresql-42.2.16.jar’ saved [1002883/1002883]\n",
            "\n"
          ]
        }
      ],
      "source": [
        "# Download the Postgres driver that will allow Spark to interact with Postgres.\n",
        "!wget https://jdbc.postgresql.org/download/postgresql-42.2.16.jar"
      ]
    },
    {
      "cell_type": "code",
      "execution_count": 3,
      "metadata": {
        "id": "MMqDAjVS0KN9"
      },
      "outputs": [],
      "source": [
        "from pyspark.sql import SparkSession\n",
        "spark = SparkSession.builder.appName(\"M16-Amazon-Challenge\").config(\"spark.driver.extraClassPath\",\"/content/postgresql-42.2.16.jar\").getOrCreate()"
      ]
    },
    {
      "cell_type": "markdown",
      "metadata": {
        "id": "cyBsySGuY-9V"
      },
      "source": [
        "### Load Amazon Data into Spark DataFrame"
      ]
    },
    {
      "cell_type": "code",
      "execution_count": 4,
      "metadata": {
        "id": "CtCmBhQJY-9Z",
        "colab": {
          "base_uri": "https://localhost:8080/",
          "height": 0
        },
        "outputId": "63e6e849-9f70-4943-f62a-8ea946555ccf"
      },
      "outputs": [
        {
          "output_type": "stream",
          "name": "stdout",
          "text": [
            "+-----------+-----------+--------------+----------+--------------+--------------------+-------------------+-----------+-------------+-----------+----+-----------------+--------------------+--------------------+-----------+\n",
            "|marketplace|customer_id|     review_id|product_id|product_parent|       product_title|   product_category|star_rating|helpful_votes|total_votes|vine|verified_purchase|     review_headline|         review_body|review_date|\n",
            "+-----------+-----------+--------------+----------+--------------+--------------------+-------------------+-----------+-------------+-----------+----+-----------------+--------------------+--------------------+-----------+\n",
            "|         US|   45610553| RMDCHWD0Y5OZ9|B00HH62VB6|     618218723|AGPtek® 10 Isolat...|Musical Instruments|          3|            0|          1|   N|                N|         Three Stars|Works very good, ...| 2015-08-31|\n",
            "|         US|   14640079| RZSL0BALIYUNU|B003LRN53I|     986692292|Sennheiser HD203 ...|Musical Instruments|          5|            0|          0|   N|                Y|          Five Stars|Nice headphones a...| 2015-08-31|\n",
            "|         US|    6111003| RIZR67JKUDBI0|B0006VMBHI|     603261968|AudioQuest LP rec...|Musical Instruments|          3|            0|          1|   N|                Y|         Three Stars|removes dust. doe...| 2015-08-31|\n",
            "|         US|    1546619|R27HL570VNL85F|B002B55TRG|     575084461|Hohner Inc. 560BX...|Musical Instruments|          5|            0|          0|   N|                Y|I purchase these ...|I purchase these ...| 2015-08-31|\n",
            "|         US|   12222213|R34EBU9QDWJ1GD|B00N1YPXW2|     165236328|Blue Yeti USB Mic...|Musical Instruments|          5|            0|          0|   N|                Y|          Five Stars|This is an awesom...| 2015-08-31|\n",
            "|         US|   46018513|R1WCUI4Z1SIQEO|B001N4GRGS|     134151483|Middle Atlantic P...|Musical Instruments|          5|            0|          0|   N|                N|          Five Stars|Used to cool equi...| 2015-08-31|\n",
            "|         US|   10225065| RL5LNO26GAVJ1|B009PJRMHQ|     694166585|Kmise 1pc Pickgua...|Musical Instruments|          2|            3|          4|   N|                Y|Will not Fit Epip...|Note- Does not Fi...| 2015-08-31|\n",
            "|         US|    6356995|R3GYQ5W8JHP8SB|B00NKBDAZS|     446431775|Kealoha Concert U...|Musical Instruments|          5|            0|          0|   N|                Y|          Five Stars|Well built Ukulel...| 2015-08-31|\n",
            "|         US|   35297198|R30SHYQXGG5EYC|B006MIU7U2|     125871705|Halco 80000 - MR1...|Musical Instruments|          5|            0|          0|   N|                Y|Works fine. Hope ...|Had to replace a ...| 2015-08-31|\n",
            "|         US|   32139520|R14YLXA56NP51I|B000FIBD0I|     771888534|Gator GPTBLACK Pl...|Musical Instruments|          5|            1|          1|   N|                N|I upgraded the po...|I've owned multip...| 2015-08-31|\n",
            "|         US|   36060782|R1ZH0HSH38IOTZ|B0002E52GG|      68535945|Hetman 1 - Light ...|Musical Instruments|          5|            0|          0|   N|                Y|My son's favourit...|Consistent qualit...| 2015-08-31|\n",
            "|         US|    5301309|R3H53KLLC210XI|B00RZIH52G|     725541773|Dragonpad pop fil...|Musical Instruments|          4|            0|          0|   N|                Y|Great pop filter ...|by far the best p...| 2015-08-31|\n",
            "|         US|   37472935|R3OOR877NGA8JK|B001792BAU|      46570323|DharmaObjects Rel...|Musical Instruments|          3|            0|          0|   N|                Y|                  Ok|Beautiful set. On...| 2015-08-31|\n",
            "|         US|   33578270|R1BY7WKOZ3KMH0|B009GSKW1Y|     547963417|Musiclily SSS Pla...|Musical Instruments|          2|            0|          0|   N|                Y|           Two Stars|Bridge pickup was...| 2015-08-31|\n",
            "|         US|   22070226| RXP1TFSWE8EG9|B0002F4TKA|     436074323|Vic Firth America...|Musical Instruments|          5|            0|          0|   N|                Y|          Five Stars|Feels good and la...| 2015-08-31|\n",
            "|         US|   52862655|R3J44DPP12OTLJ|B00K17YFBW|      81933093|Guitar Stand for ...|Musical Instruments|          5|            0|          0|   N|                Y|Great stand... on...|I love the stand....| 2015-08-31|\n",
            "|         US|    4427243| RFOV69SK0T676|B00EQ24HJS|     669249276|Generic 3PLY Faux...|Musical Instruments|          5|            0|          0|   N|                Y|Looks great. You ...|On time. Looks gr...| 2015-08-31|\n",
            "|         US|   14108571|R2HUWDNW62FOL3|B00IBOYTUE|     749537231|Audio 2000 6525 3...|Musical Instruments|          1|            0|          0|   N|                Y|  Poor sound quality|I was hoping it w...| 2015-08-31|\n",
            "|         US|   27314089|R1KSU30XZGR452|B00FBRUSAE|     792472601|Sawtooth ST-AMP-1...|Musical Instruments|          5|            0|          0|   N|                Y|Perfect for the b...|Good sound for it...| 2015-08-31|\n",
            "|         US|   16735445|R2TZVLLTSHA07N|B0113D2QUO|     269114019|Upado Unlimited G...|Musical Instruments|          5|            1|          1|   N|                Y|It really is a mu...|Wow! I didn't exp...| 2015-08-31|\n",
            "+-----------+-----------+--------------+----------+--------------+--------------------+-------------------+-----------+-------------+-----------+----+-----------------+--------------------+--------------------+-----------+\n",
            "only showing top 20 rows\n",
            "\n"
          ]
        }
      ],
      "source": [
        "from pyspark import SparkFiles\n",
        "url = \"https://s3.amazonaws.com/amazon-reviews-pds/tsv/amazon_reviews_us_Musical_Instruments_v1_00.tsv.gz\"\n",
        "spark.sparkContext.addFile(url)\n",
        "df = spark.read.option(\"encoding\", \"UTF-8\").csv(SparkFiles.get(\"amazon_reviews_us_Musical_Instruments_v1_00.tsv.gz\"), sep=\"\\t\", header=True, inferSchema=True)\n",
        "df.show()"
      ]
    },
    {
      "cell_type": "markdown",
      "metadata": {
        "id": "2yUSe55VY-9t"
      },
      "source": [
        "### Create DataFrames to match tables"
      ]
    },
    {
      "cell_type": "code",
      "source": [
        "# Deliverable 2\n",
        "new_df =df.select([\"customer_id\",\"review_id\",\"star_rating\",\"helpful_votes\",\"total_votes\",\"vine\",\"verified_purchase\"])\n",
        "new_df.show()"
      ],
      "metadata": {
        "colab": {
          "base_uri": "https://localhost:8080/",
          "height": 0
        },
        "id": "kxF632pTBk13",
        "outputId": "e96b7a9b-da98-4642-afa7-eb58da4ef1e1"
      },
      "execution_count": 5,
      "outputs": [
        {
          "output_type": "stream",
          "name": "stdout",
          "text": [
            "+-----------+--------------+-----------+-------------+-----------+----+-----------------+\n",
            "|customer_id|     review_id|star_rating|helpful_votes|total_votes|vine|verified_purchase|\n",
            "+-----------+--------------+-----------+-------------+-----------+----+-----------------+\n",
            "|   45610553| RMDCHWD0Y5OZ9|          3|            0|          1|   N|                N|\n",
            "|   14640079| RZSL0BALIYUNU|          5|            0|          0|   N|                Y|\n",
            "|    6111003| RIZR67JKUDBI0|          3|            0|          1|   N|                Y|\n",
            "|    1546619|R27HL570VNL85F|          5|            0|          0|   N|                Y|\n",
            "|   12222213|R34EBU9QDWJ1GD|          5|            0|          0|   N|                Y|\n",
            "|   46018513|R1WCUI4Z1SIQEO|          5|            0|          0|   N|                N|\n",
            "|   10225065| RL5LNO26GAVJ1|          2|            3|          4|   N|                Y|\n",
            "|    6356995|R3GYQ5W8JHP8SB|          5|            0|          0|   N|                Y|\n",
            "|   35297198|R30SHYQXGG5EYC|          5|            0|          0|   N|                Y|\n",
            "|   32139520|R14YLXA56NP51I|          5|            1|          1|   N|                N|\n",
            "|   36060782|R1ZH0HSH38IOTZ|          5|            0|          0|   N|                Y|\n",
            "|    5301309|R3H53KLLC210XI|          4|            0|          0|   N|                Y|\n",
            "|   37472935|R3OOR877NGA8JK|          3|            0|          0|   N|                Y|\n",
            "|   33578270|R1BY7WKOZ3KMH0|          2|            0|          0|   N|                Y|\n",
            "|   22070226| RXP1TFSWE8EG9|          5|            0|          0|   N|                Y|\n",
            "|   52862655|R3J44DPP12OTLJ|          5|            0|          0|   N|                Y|\n",
            "|    4427243| RFOV69SK0T676|          5|            0|          0|   N|                Y|\n",
            "|   14108571|R2HUWDNW62FOL3|          1|            0|          0|   N|                Y|\n",
            "|   27314089|R1KSU30XZGR452|          5|            0|          0|   N|                Y|\n",
            "|   16735445|R2TZVLLTSHA07N|          5|            1|          1|   N|                Y|\n",
            "+-----------+--------------+-----------+-------------+-----------+----+-----------------+\n",
            "only showing top 20 rows\n",
            "\n"
          ]
        }
      ]
    },
    {
      "cell_type": "code",
      "source": [
        "#Filter the data and create a new DataFrame or table to retrieve all the rows where the total_votes count is equal to or \n",
        "# greater than 20 to pick reviews that are more likely to be helpful and to avoid having division by zero errors later on.\n",
        "votes_count_df = new_df.filter(\"total_votes>=20\")\n",
        "votes_count_df.show()"
      ],
      "metadata": {
        "colab": {
          "base_uri": "https://localhost:8080/",
          "height": 0
        },
        "id": "Q-vx8cahCXWp",
        "outputId": "56371b12-f6e7-45b8-ebb3-96d552bf638f"
      },
      "execution_count": 6,
      "outputs": [
        {
          "output_type": "stream",
          "name": "stdout",
          "text": [
            "+-----------+--------------+-----------+-------------+-----------+----+-----------------+\n",
            "|customer_id|     review_id|star_rating|helpful_votes|total_votes|vine|verified_purchase|\n",
            "+-----------+--------------+-----------+-------------+-----------+----+-----------------+\n",
            "|   15365576|R2243Y3OD8U6KQ|          5|           47|         61|   N|                N|\n",
            "|   28770559|R2TGT0CDTCAAHW|          5|           21|         23|   N|                Y|\n",
            "|   35225823| RX4D22YSXEF4P|          1|           37|         38|   N|                Y|\n",
            "|   24740219|R3FL2NTLFUSPTQ|          5|           33|         37|   N|                N|\n",
            "|   26124872|R3QTP3YNZXAPPF|          3|           23|         24|   N|                Y|\n",
            "|   16452718|R36V6V42VN5AS5|          5|           34|         37|   N|                Y|\n",
            "|   40567300|R27LZWE27BJPOB|          5|           22|         23|   N|                N|\n",
            "|   52695075|  RMRD6SMF2AUQ|          3|            4|         21|   N|                N|\n",
            "|   11587240| RMPCXKWX3T57Y|          1|            1|         73|   N|                N|\n",
            "|   49287335|R1P7GJ0IN2BRNH|          5|           37|         37|   N|                Y|\n",
            "|   50984149|R2R6JPF9KOD2HJ|          5|           19|         20|   N|                Y|\n",
            "|   44703201|R3JM8Z4SP9N3H2|          1|            4|         23|   N|                N|\n",
            "|   18517211|R2J0ZZGFXKM8KR|          2|           21|         22|   N|                Y|\n",
            "|   29380174|R238ZSG6TSUBNX|          5|           27|         27|   N|                Y|\n",
            "|   37778551|R37WGVXA94D62S|          2|            4|         20|   N|                Y|\n",
            "|   47575748| RC6Y8GYIQZ8YU|          3|           72|         85|   N|                Y|\n",
            "|    1221512| RFL3TJED8C240|          5|           13|         24|   N|                N|\n",
            "|   51260912|R3D4P7A8Q1C70F|          5|           22|         27|   N|                Y|\n",
            "|   40130155|R3PRNAQVQBB9M6|          1|           21|         30|   N|                Y|\n",
            "|    3430931|R2NTTIW5KBKLYG|          5|           19|         20|   N|                N|\n",
            "+-----------+--------------+-----------+-------------+-----------+----+-----------------+\n",
            "only showing top 20 rows\n",
            "\n"
          ]
        }
      ]
    },
    {
      "cell_type": "code",
      "source": [
        "#Filter the new DataFrame or table created in Step 1 and create a new DataFrame or table to retrieve all the rows where the number of helpful_votes divided by total_votes is equal to or greater than 50%.\n",
        "new_filter_df = votes_count_df.filter(\"helpful_votes/total_votes>=0.50\")\n",
        "new_filter_df.show()"
      ],
      "metadata": {
        "colab": {
          "base_uri": "https://localhost:8080/",
          "height": 0
        },
        "id": "NcZjQapbDZwR",
        "outputId": "c964a241-9a8e-4300-903d-0d6782cb5a94"
      },
      "execution_count": 7,
      "outputs": [
        {
          "output_type": "stream",
          "name": "stdout",
          "text": [
            "+-----------+--------------+-----------+-------------+-----------+----+-----------------+\n",
            "|customer_id|     review_id|star_rating|helpful_votes|total_votes|vine|verified_purchase|\n",
            "+-----------+--------------+-----------+-------------+-----------+----+-----------------+\n",
            "|   15365576|R2243Y3OD8U6KQ|          5|           47|         61|   N|                N|\n",
            "|   28770559|R2TGT0CDTCAAHW|          5|           21|         23|   N|                Y|\n",
            "|   35225823| RX4D22YSXEF4P|          1|           37|         38|   N|                Y|\n",
            "|   24740219|R3FL2NTLFUSPTQ|          5|           33|         37|   N|                N|\n",
            "|   26124872|R3QTP3YNZXAPPF|          3|           23|         24|   N|                Y|\n",
            "|   16452718|R36V6V42VN5AS5|          5|           34|         37|   N|                Y|\n",
            "|   40567300|R27LZWE27BJPOB|          5|           22|         23|   N|                N|\n",
            "|   49287335|R1P7GJ0IN2BRNH|          5|           37|         37|   N|                Y|\n",
            "|   50984149|R2R6JPF9KOD2HJ|          5|           19|         20|   N|                Y|\n",
            "|   18517211|R2J0ZZGFXKM8KR|          2|           21|         22|   N|                Y|\n",
            "|   29380174|R238ZSG6TSUBNX|          5|           27|         27|   N|                Y|\n",
            "|   47575748| RC6Y8GYIQZ8YU|          3|           72|         85|   N|                Y|\n",
            "|    1221512| RFL3TJED8C240|          5|           13|         24|   N|                N|\n",
            "|   51260912|R3D4P7A8Q1C70F|          5|           22|         27|   N|                Y|\n",
            "|   40130155|R3PRNAQVQBB9M6|          1|           21|         30|   N|                Y|\n",
            "|    3430931|R2NTTIW5KBKLYG|          5|           19|         20|   N|                N|\n",
            "|   23046787|R3JNDLZ3KACRLG|          5|           29|         33|   N|                N|\n",
            "|   47324124|R1PVVYYY0Q1HZ0|          5|           21|         21|   N|                Y|\n",
            "|   42689422|R1R9RU7JW0MFR2|          4|           20|         23|   Y|                N|\n",
            "|   29940086|R1G9N0CW2982PA|          5|           21|         24|   N|                Y|\n",
            "+-----------+--------------+-----------+-------------+-----------+----+-----------------+\n",
            "only showing top 20 rows\n",
            "\n"
          ]
        }
      ]
    },
    {
      "cell_type": "code",
      "execution_count": 8,
      "metadata": {
        "id": "Exuo6ebUsCqW",
        "colab": {
          "base_uri": "https://localhost:8080/",
          "height": 0
        },
        "outputId": "8fbbace8-419d-4ea0-d529-6701aa5da4da"
      },
      "outputs": [
        {
          "output_type": "stream",
          "name": "stdout",
          "text": [
            "+-----------+--------------+-----------+-------------+-----------+----+-----------------+\n",
            "|customer_id|     review_id|star_rating|helpful_votes|total_votes|vine|verified_purchase|\n",
            "+-----------+--------------+-----------+-------------+-----------+----+-----------------+\n",
            "|   42689422|R1R9RU7JW0MFR2|          4|           20|         23|   Y|                N|\n",
            "|   29182364|R19EFYNN3W8Q07|          5|           26|         32|   Y|                N|\n",
            "|   19467797|R34DJ1R8AEU0SG|          5|           29|         35|   Y|                N|\n",
            "|   52081784|R25P5CXK5L9RHF|          5|          146|        161|   Y|                N|\n",
            "|   17421494|R2E9VZB3I4LSN5|          5|           55|         59|   Y|                N|\n",
            "|   50273418| RKYLHZL7EPELX|          4|           19|         25|   Y|                N|\n",
            "|   50027179|R1U13EKGQD3ZE6|          5|           22|         25|   Y|                N|\n",
            "|   50258811| RYW05F1MUEF01|          5|           87|        102|   Y|                N|\n",
            "|   28322689|R2SW4NXNO7HZJ5|          4|           28|         33|   Y|                N|\n",
            "|   52880152|R2016NFLSUR97Y|          2|           26|         37|   Y|                N|\n",
            "|   51238346| RFCV9QXJ3D79X|          3|           20|         22|   Y|                N|\n",
            "|   48204392|R36779ZAY4ZT0Y|          3|           46|         50|   Y|                N|\n",
            "|   53080186|R13PPTBWWV10Q6|          5|           19|         25|   Y|                N|\n",
            "|   49131768|R2A3FFNJTDUBMV|          5|           20|         27|   Y|                N|\n",
            "|   52736752|R3QQG4HUB214TM|          5|          111|        128|   Y|                N|\n",
            "|   31463400|R3J9OSJNJB7KGM|          5|           70|         80|   Y|                N|\n",
            "|   27847324| RIMYDUAAFXY2U|          5|           22|         23|   Y|                N|\n",
            "|   35360512|R22CYBPLKWDK6F|          5|           47|         54|   Y|                N|\n",
            "|   52825479|R1ETBDZ1LJ8CEL|          4|           28|         32|   Y|                N|\n",
            "|   20325834|R28T5ISQ8AA7E5|          5|           40|         42|   Y|                N|\n",
            "+-----------+--------------+-----------+-------------+-----------+----+-----------------+\n",
            "only showing top 20 rows\n",
            "\n"
          ]
        }
      ],
      "source": [
        "#Filter the DataFrame or table created in Step 2, and create a new DataFrame or table that retrieves all the rows where a review was written as part of the Vine program (paid), vine == 'Y'.\n",
        "vine_filter_df = new_filter_df.filter(new_filter_df[\"vine\"]==\"Y\")\n",
        "vine_filter_df.show()"
      ]
    },
    {
      "cell_type": "code",
      "source": [
        "#Repeat Step 3, but this time retrieve all the rows where the review was not part of the Vine program (unpaid), vine == 'N'\n",
        "non_vine_filter_df = new_filter_df.filter(new_filter_df[\"vine\"]==\"N\")\n",
        "non_vine_filter_df.show()"
      ],
      "metadata": {
        "colab": {
          "base_uri": "https://localhost:8080/",
          "height": 0
        },
        "id": "ZInVVvWLIWU2",
        "outputId": "904ec3d5-81ea-466e-80a4-a8207d5b51e5"
      },
      "execution_count": 9,
      "outputs": [
        {
          "output_type": "stream",
          "name": "stdout",
          "text": [
            "+-----------+--------------+-----------+-------------+-----------+----+-----------------+\n",
            "|customer_id|     review_id|star_rating|helpful_votes|total_votes|vine|verified_purchase|\n",
            "+-----------+--------------+-----------+-------------+-----------+----+-----------------+\n",
            "|   15365576|R2243Y3OD8U6KQ|          5|           47|         61|   N|                N|\n",
            "|   28770559|R2TGT0CDTCAAHW|          5|           21|         23|   N|                Y|\n",
            "|   35225823| RX4D22YSXEF4P|          1|           37|         38|   N|                Y|\n",
            "|   24740219|R3FL2NTLFUSPTQ|          5|           33|         37|   N|                N|\n",
            "|   26124872|R3QTP3YNZXAPPF|          3|           23|         24|   N|                Y|\n",
            "|   16452718|R36V6V42VN5AS5|          5|           34|         37|   N|                Y|\n",
            "|   40567300|R27LZWE27BJPOB|          5|           22|         23|   N|                N|\n",
            "|   49287335|R1P7GJ0IN2BRNH|          5|           37|         37|   N|                Y|\n",
            "|   50984149|R2R6JPF9KOD2HJ|          5|           19|         20|   N|                Y|\n",
            "|   18517211|R2J0ZZGFXKM8KR|          2|           21|         22|   N|                Y|\n",
            "|   29380174|R238ZSG6TSUBNX|          5|           27|         27|   N|                Y|\n",
            "|   47575748| RC6Y8GYIQZ8YU|          3|           72|         85|   N|                Y|\n",
            "|    1221512| RFL3TJED8C240|          5|           13|         24|   N|                N|\n",
            "|   51260912|R3D4P7A8Q1C70F|          5|           22|         27|   N|                Y|\n",
            "|   40130155|R3PRNAQVQBB9M6|          1|           21|         30|   N|                Y|\n",
            "|    3430931|R2NTTIW5KBKLYG|          5|           19|         20|   N|                N|\n",
            "|   23046787|R3JNDLZ3KACRLG|          5|           29|         33|   N|                N|\n",
            "|   47324124|R1PVVYYY0Q1HZ0|          5|           21|         21|   N|                Y|\n",
            "|   29940086|R1G9N0CW2982PA|          5|           21|         24|   N|                Y|\n",
            "|   42339282|R2N8ZFHQBWHMDL|          2|           26|         28|   N|                Y|\n",
            "+-----------+--------------+-----------+-------------+-----------+----+-----------------+\n",
            "only showing top 20 rows\n",
            "\n"
          ]
        }
      ]
    },
    {
      "cell_type": "code",
      "source": [
        "# Determine the total number of reviews, \n",
        "total_reviews_count = new_df.count()\n",
        "print(total_reviews_count)\n",
        "\n"
      ],
      "metadata": {
        "colab": {
          "base_uri": "https://localhost:8080/",
          "height": 0
        },
        "id": "zmC-NvYYIuaF",
        "outputId": "a53b0c58-3d65-4b67-9ed6-8b2fa7477ed6"
      },
      "execution_count": 10,
      "outputs": [
        {
          "output_type": "stream",
          "name": "stdout",
          "text": [
            "904765\n"
          ]
        }
      ]
    },
    {
      "cell_type": "code",
      "source": [
        "#total number of reviews for over 50%\n",
        "vine_reviews_count = vine_filter_df.count()\n",
        "print(vine_reviews_count)\n",
        "\n",
        "non_vine_reviews_count = non_vine_filter_df.count()\n",
        "print(non_vine_reviews_count)"
      ],
      "metadata": {
        "colab": {
          "base_uri": "https://localhost:8080/",
          "height": 0
        },
        "id": "CqLHpSUyNq-M",
        "outputId": "1b4d0407-a355-4269-8a87-77fa07421cd0"
      },
      "execution_count": 12,
      "outputs": [
        {
          "output_type": "stream",
          "name": "stdout",
          "text": [
            "60\n",
            "14477\n"
          ]
        }
      ]
    },
    {
      "cell_type": "code",
      "source": [
        "#the number of 5-star reviews, and the percentage of 5-star reviews for the two types of review (paid vs unpaid)\n",
        "star_reviews_paid_df = vine_filter_df.filter(vine_filter_df[\"star_rating\"]==\"5\")\n",
        "star_reviews_paid_count = star_reviews_paid_df.count()\n",
        "print(star_reviews_paid_count)\n",
        "\n",
        "star_reviews_nonpaid_df = non_vine_filter_df.filter(non_vine_filter_df[\"star_rating\"]==\"5\")\n",
        "star_reviews_nonpaid_count = star_reviews_nonpaid_df.count()\n",
        "print(star_reviews_nonpaid_count)"
      ],
      "metadata": {
        "colab": {
          "base_uri": "https://localhost:8080/",
          "height": 0
        },
        "id": "pZm3p9zNKnR5",
        "outputId": "d051c833-771c-4974-9ab2-dbbd9fcb7c91"
      },
      "execution_count": 17,
      "outputs": [
        {
          "output_type": "stream",
          "name": "stdout",
          "text": [
            "34\n",
            "8212\n"
          ]
        }
      ]
    },
    {
      "cell_type": "code",
      "source": [
        "vine_reviews_perc = star_reviews_paid_count/vine_reviews_count * 100\n",
        "print(vine_reviews_perc)\n",
        "\n",
        "non_vine_reviews_perc = star_reviews_nonpaid_count/non_vine_reviews_count * 100\n",
        "print(non_vine_reviews_perc)"
      ],
      "metadata": {
        "id": "QWazkxuWNL2Z",
        "colab": {
          "base_uri": "https://localhost:8080/",
          "height": 0
        },
        "outputId": "9fccf0fd-5112-4c1e-b5b8-4a4d3ebdcfaa"
      },
      "execution_count": 19,
      "outputs": [
        {
          "output_type": "stream",
          "name": "stdout",
          "text": [
            "56.666666666666664\n",
            "56.72445948746287\n"
          ]
        }
      ]
    },
    {
      "cell_type": "code",
      "source": [
        "#additional analysis\n",
        "new_count = new_df.count()\n",
        "print(new_count)"
      ],
      "metadata": {
        "colab": {
          "base_uri": "https://localhost:8080/"
        },
        "id": "XCtZCjXJ-O59",
        "outputId": "573b24fb-9a78-4018-ace6-0cef8338c0d2"
      },
      "execution_count": 42,
      "outputs": [
        {
          "output_type": "stream",
          "name": "stdout",
          "text": [
            "904765\n"
          ]
        }
      ]
    },
    {
      "cell_type": "code",
      "source": [
        "new_vine_df = new_df.filter(new_df[\"vine\"]==\"Y\")\n",
        "new_vine_count = new_vine_df.filter(new_vine_df[\"helpful_votes\"]>=\"50\").count()\n",
        "print(new_vine_count)\n",
        "\n",
        "new_vine_perc = new_vine_count/new_count * 100\n",
        "print(new_vine_perc)"
      ],
      "metadata": {
        "colab": {
          "base_uri": "https://localhost:8080/"
        },
        "id": "UqDvj-K5DRsR",
        "outputId": "91992e09-9546-4bdb-f49e-e7ac8687309f"
      },
      "execution_count": 43,
      "outputs": [
        {
          "output_type": "stream",
          "name": "stdout",
          "text": [
            "14\n",
            "0.0015473631274419324\n"
          ]
        }
      ]
    },
    {
      "cell_type": "code",
      "source": [
        "new_nonvine_df = new_df.filter(new_df[\"vine\"]==\"N\")\n",
        "new_nonvine_count = new_nonvine_df.filter(new_nonvine_df[\"helpful_votes\"]>=\"50\").count()\n",
        "print(new_nonvine_count)\n",
        "\n",
        "new_nonvine_perc = new_nonvine_count/new_count * 100\n",
        "print(new_nonvine_perc)"
      ],
      "metadata": {
        "colab": {
          "base_uri": "https://localhost:8080/"
        },
        "id": "N1X_yH3PD4du",
        "outputId": "2f4d7402-9845-4410-8153-dcdef75d4e52"
      },
      "execution_count": 44,
      "outputs": [
        {
          "output_type": "stream",
          "name": "stdout",
          "text": [
            "3153\n",
            "0.34848828148745803\n"
          ]
        }
      ]
    }
  ],
  "metadata": {
    "colab": {
      "name": "vine_review_analysis2.ipynb",
      "provenance": [],
      "collapsed_sections": []
    },
    "kernelspec": {
      "display_name": "Python 3",
      "name": "python3"
    },
    "language_info": {
      "name": "python"
    },
    "nteract": {
      "version": "0.12.3"
    }
  },
  "nbformat": 4,
  "nbformat_minor": 0
}